{
 "cells": [
  {
   "cell_type": "code",
   "execution_count": 1,
   "id": "fc506991",
   "metadata": {
    "_cell_guid": "b1076dfc-b9ad-4769-8c92-a6c4dae69d19",
    "_uuid": "8f2839f25d086af736a60e9eeb907d3b93b6e0e5",
    "execution": {
     "iopub.execute_input": "2025-03-17T09:37:21.808209Z",
     "iopub.status.busy": "2025-03-17T09:37:21.807847Z",
     "iopub.status.idle": "2025-03-17T09:37:22.835944Z",
     "shell.execute_reply": "2025-03-17T09:37:22.834821Z"
    },
    "papermill": {
     "duration": 1.036838,
     "end_time": "2025-03-17T09:37:22.837960",
     "exception": false,
     "start_time": "2025-03-17T09:37:21.801122",
     "status": "completed"
    },
    "tags": []
   },
   "outputs": [],
   "source": [
    "# This Python 3 environment comes with many helpful analytics libraries installed\n",
    "# It is defined by the kaggle/python Docker image: https://github.com/kaggle/docker-python\n",
    "# For example, here's several helpful packages to load\n",
    "\n",
    "import numpy as np # linear algebra\n",
    "import pandas as pd # data processing, CSV file I/O (e.g. pd.read_csv)\n",
    "\n",
    "# Input data files are available in the read-only \"../input/\" directory\n",
    "# For example, running this (by clicking run or pressing Shift+Enter) will list all files under the input directory\n",
    "\n",
    "import os\n",
    "for dirname, _, filenames in os.walk('/kaggle/input'):\n",
    "    for filename in filenames:\n",
    "        print(os.path.join(dirname, filename))\n",
    "\n",
    "# You can write up to 20GB to the current directory (/kaggle/working/) that gets preserved as output when you create a version using \"Save & Run All\" \n",
    "# You can also write temporary files to /kaggle/temp/, but they won't be saved outside of the current session"
   ]
  },
  {
   "cell_type": "code",
   "execution_count": 2,
   "id": "b9f182c4",
   "metadata": {
    "execution": {
     "iopub.execute_input": "2025-03-17T09:37:22.849268Z",
     "iopub.status.busy": "2025-03-17T09:37:22.848767Z",
     "iopub.status.idle": "2025-03-17T09:37:39.462501Z",
     "shell.execute_reply": "2025-03-17T09:37:39.461269Z"
    },
    "papermill": {
     "duration": 16.621601,
     "end_time": "2025-03-17T09:37:39.464666",
     "exception": false,
     "start_time": "2025-03-17T09:37:22.843065",
     "status": "completed"
    },
    "tags": []
   },
   "outputs": [],
   "source": [
    "import tensorflow \n",
    "from tensorflow import keras \n",
    "from tensorflow.keras import Sequential\n",
    "from tensorflow.keras.layers import Dense,Flatten"
   ]
  },
  {
   "cell_type": "code",
   "execution_count": 3,
   "id": "8fa428c3",
   "metadata": {
    "execution": {
     "iopub.execute_input": "2025-03-17T09:37:39.475954Z",
     "iopub.status.busy": "2025-03-17T09:37:39.475278Z",
     "iopub.status.idle": "2025-03-17T09:37:39.938920Z",
     "shell.execute_reply": "2025-03-17T09:37:39.937750Z"
    },
    "papermill": {
     "duration": 0.471339,
     "end_time": "2025-03-17T09:37:39.941009",
     "exception": false,
     "start_time": "2025-03-17T09:37:39.469670",
     "status": "completed"
    },
    "tags": []
   },
   "outputs": [
    {
     "name": "stdout",
     "output_type": "stream",
     "text": [
      "Downloading data from https://storage.googleapis.com/tensorflow/tf-keras-datasets/mnist.npz\n",
      "\u001b[1m11490434/11490434\u001b[0m \u001b[32m━━━━━━━━━━━━━━━━━━━━\u001b[0m\u001b[37m\u001b[0m \u001b[1m0s\u001b[0m 0us/step\n"
     ]
    }
   ],
   "source": [
    "(x_train,y_train),(x_test,y_test) = keras.datasets.mnist.load_data() "
   ]
  },
  {
   "cell_type": "code",
   "execution_count": 4,
   "id": "20b012c6",
   "metadata": {
    "execution": {
     "iopub.execute_input": "2025-03-17T09:37:39.952676Z",
     "iopub.status.busy": "2025-03-17T09:37:39.952267Z",
     "iopub.status.idle": "2025-03-17T09:37:39.961761Z",
     "shell.execute_reply": "2025-03-17T09:37:39.960547Z"
    },
    "papermill": {
     "duration": 0.017085,
     "end_time": "2025-03-17T09:37:39.963490",
     "exception": false,
     "start_time": "2025-03-17T09:37:39.946405",
     "status": "completed"
    },
    "tags": []
   },
   "outputs": [
    {
     "data": {
      "text/plain": [
       "array([[[0, 0, 0, ..., 0, 0, 0],\n",
       "        [0, 0, 0, ..., 0, 0, 0],\n",
       "        [0, 0, 0, ..., 0, 0, 0],\n",
       "        ...,\n",
       "        [0, 0, 0, ..., 0, 0, 0],\n",
       "        [0, 0, 0, ..., 0, 0, 0],\n",
       "        [0, 0, 0, ..., 0, 0, 0]],\n",
       "\n",
       "       [[0, 0, 0, ..., 0, 0, 0],\n",
       "        [0, 0, 0, ..., 0, 0, 0],\n",
       "        [0, 0, 0, ..., 0, 0, 0],\n",
       "        ...,\n",
       "        [0, 0, 0, ..., 0, 0, 0],\n",
       "        [0, 0, 0, ..., 0, 0, 0],\n",
       "        [0, 0, 0, ..., 0, 0, 0]],\n",
       "\n",
       "       [[0, 0, 0, ..., 0, 0, 0],\n",
       "        [0, 0, 0, ..., 0, 0, 0],\n",
       "        [0, 0, 0, ..., 0, 0, 0],\n",
       "        ...,\n",
       "        [0, 0, 0, ..., 0, 0, 0],\n",
       "        [0, 0, 0, ..., 0, 0, 0],\n",
       "        [0, 0, 0, ..., 0, 0, 0]],\n",
       "\n",
       "       ...,\n",
       "\n",
       "       [[0, 0, 0, ..., 0, 0, 0],\n",
       "        [0, 0, 0, ..., 0, 0, 0],\n",
       "        [0, 0, 0, ..., 0, 0, 0],\n",
       "        ...,\n",
       "        [0, 0, 0, ..., 0, 0, 0],\n",
       "        [0, 0, 0, ..., 0, 0, 0],\n",
       "        [0, 0, 0, ..., 0, 0, 0]],\n",
       "\n",
       "       [[0, 0, 0, ..., 0, 0, 0],\n",
       "        [0, 0, 0, ..., 0, 0, 0],\n",
       "        [0, 0, 0, ..., 0, 0, 0],\n",
       "        ...,\n",
       "        [0, 0, 0, ..., 0, 0, 0],\n",
       "        [0, 0, 0, ..., 0, 0, 0],\n",
       "        [0, 0, 0, ..., 0, 0, 0]],\n",
       "\n",
       "       [[0, 0, 0, ..., 0, 0, 0],\n",
       "        [0, 0, 0, ..., 0, 0, 0],\n",
       "        [0, 0, 0, ..., 0, 0, 0],\n",
       "        ...,\n",
       "        [0, 0, 0, ..., 0, 0, 0],\n",
       "        [0, 0, 0, ..., 0, 0, 0],\n",
       "        [0, 0, 0, ..., 0, 0, 0]]], dtype=uint8)"
      ]
     },
     "execution_count": 4,
     "metadata": {},
     "output_type": "execute_result"
    }
   ],
   "source": [
    "x_train"
   ]
  },
  {
   "cell_type": "code",
   "execution_count": 5,
   "id": "244ba0eb",
   "metadata": {
    "execution": {
     "iopub.execute_input": "2025-03-17T09:37:39.975175Z",
     "iopub.status.busy": "2025-03-17T09:37:39.974790Z",
     "iopub.status.idle": "2025-03-17T09:37:39.981004Z",
     "shell.execute_reply": "2025-03-17T09:37:39.979965Z"
    },
    "papermill": {
     "duration": 0.014195,
     "end_time": "2025-03-17T09:37:39.982965",
     "exception": false,
     "start_time": "2025-03-17T09:37:39.968770",
     "status": "completed"
    },
    "tags": []
   },
   "outputs": [
    {
     "data": {
      "text/plain": [
       "(60000, 28, 28)"
      ]
     },
     "execution_count": 5,
     "metadata": {},
     "output_type": "execute_result"
    }
   ],
   "source": [
    "x_train.shape"
   ]
  },
  {
   "cell_type": "code",
   "execution_count": 6,
   "id": "cd6b4e59",
   "metadata": {
    "execution": {
     "iopub.execute_input": "2025-03-17T09:37:39.994807Z",
     "iopub.status.busy": "2025-03-17T09:37:39.994357Z",
     "iopub.status.idle": "2025-03-17T09:37:40.000758Z",
     "shell.execute_reply": "2025-03-17T09:37:39.999531Z"
    },
    "papermill": {
     "duration": 0.014399,
     "end_time": "2025-03-17T09:37:40.002633",
     "exception": false,
     "start_time": "2025-03-17T09:37:39.988234",
     "status": "completed"
    },
    "tags": []
   },
   "outputs": [
    {
     "data": {
      "text/plain": [
       "array([5, 0, 4, ..., 5, 6, 8], dtype=uint8)"
      ]
     },
     "execution_count": 6,
     "metadata": {},
     "output_type": "execute_result"
    }
   ],
   "source": [
    "y_train"
   ]
  },
  {
   "cell_type": "code",
   "execution_count": 7,
   "id": "fd5ae38f",
   "metadata": {
    "execution": {
     "iopub.execute_input": "2025-03-17T09:37:40.014741Z",
     "iopub.status.busy": "2025-03-17T09:37:40.014228Z",
     "iopub.status.idle": "2025-03-17T09:37:40.320735Z",
     "shell.execute_reply": "2025-03-17T09:37:40.319642Z"
    },
    "papermill": {
     "duration": 0.314448,
     "end_time": "2025-03-17T09:37:40.322563",
     "exception": false,
     "start_time": "2025-03-17T09:37:40.008115",
     "status": "completed"
    },
    "tags": []
   },
   "outputs": [
    {
     "data": {
      "text/plain": [
       "<matplotlib.image.AxesImage at 0x7da86d49ac50>"
      ]
     },
     "execution_count": 7,
     "metadata": {},
     "output_type": "execute_result"
    },
    {
     "data": {
      "image/png": "[encoded data removed]",
      "text/plain": [
       "<Figure size 640x480 with 1 Axes>"
      ]
     },
     "metadata": {},
     "output_type": "display_data"
    }
   ],
   "source": [
    "import matplotlib.pyplot as plt\n",
    "plt.imshow(x_train[0])"
   ]
  },
  {
   "cell_type": "code",
   "execution_count": 8,
   "id": "a7b7964f",
   "metadata": {
    "execution": {
     "iopub.execute_input": "2025-03-17T09:37:40.335612Z",
     "iopub.status.busy": "2025-03-17T09:37:40.335214Z",
     "iopub.status.idle": "2025-03-17T09:37:40.593268Z",
     "shell.execute_reply": "2025-03-17T09:37:40.592336Z"
    },
    "papermill": {
     "duration": 0.266672,
     "end_time": "2025-03-17T09:37:40.595306",
     "exception": false,
     "start_time": "2025-03-17T09:37:40.328634",
     "status": "completed"
    },
    "tags": []
   },
   "outputs": [],
   "source": [
    "x_train = x_train /255\n",
    "x_test = x_test / 255"
   ]
  },
  {
   "cell_type": "code",
   "execution_count": 9,
   "id": "253bda2d",
   "metadata": {
    "execution": {
     "iopub.execute_input": "2025-03-17T09:37:40.607819Z",
     "iopub.status.busy": "2025-03-17T09:37:40.607416Z",
     "iopub.status.idle": "2025-03-17T09:37:40.615354Z",
     "shell.execute_reply": "2025-03-17T09:37:40.614299Z"
    },
    "papermill": {
     "duration": 0.01603,
     "end_time": "2025-03-17T09:37:40.617129",
     "exception": false,
     "start_time": "2025-03-17T09:37:40.601099",
     "status": "completed"
    },
    "tags": []
   },
   "outputs": [
    {
     "data": {
      "text/plain": [
       "array([[[0., 0., 0., ..., 0., 0., 0.],\n",
       "        [0., 0., 0., ..., 0., 0., 0.],\n",
       "        [0., 0., 0., ..., 0., 0., 0.],\n",
       "        ...,\n",
       "        [0., 0., 0., ..., 0., 0., 0.],\n",
       "        [0., 0., 0., ..., 0., 0., 0.],\n",
       "        [0., 0., 0., ..., 0., 0., 0.]],\n",
       "\n",
       "       [[0., 0., 0., ..., 0., 0., 0.],\n",
       "        [0., 0., 0., ..., 0., 0., 0.],\n",
       "        [0., 0., 0., ..., 0., 0., 0.],\n",
       "        ...,\n",
       "        [0., 0., 0., ..., 0., 0., 0.],\n",
       "        [0., 0., 0., ..., 0., 0., 0.],\n",
       "        [0., 0., 0., ..., 0., 0., 0.]],\n",
       "\n",
       "       [[0., 0., 0., ..., 0., 0., 0.],\n",
       "        [0., 0., 0., ..., 0., 0., 0.],\n",
       "        [0., 0., 0., ..., 0., 0., 0.],\n",
       "        ...,\n",
       "        [0., 0., 0., ..., 0., 0., 0.],\n",
       "        [0., 0., 0., ..., 0., 0., 0.],\n",
       "        [0., 0., 0., ..., 0., 0., 0.]],\n",
       "\n",
       "       ...,\n",
       "\n",
       "       [[0., 0., 0., ..., 0., 0., 0.],\n",
       "        [0., 0., 0., ..., 0., 0., 0.],\n",
       "        [0., 0., 0., ..., 0., 0., 0.],\n",
       "        ...,\n",
       "        [0., 0., 0., ..., 0., 0., 0.],\n",
       "        [0., 0., 0., ..., 0., 0., 0.],\n",
       "        [0., 0., 0., ..., 0., 0., 0.]],\n",
       "\n",
       "       [[0., 0., 0., ..., 0., 0., 0.],\n",
       "        [0., 0., 0., ..., 0., 0., 0.],\n",
       "        [0., 0., 0., ..., 0., 0., 0.],\n",
       "        ...,\n",
       "        [0., 0., 0., ..., 0., 0., 0.],\n",
       "        [0., 0., 0., ..., 0., 0., 0.],\n",
       "        [0., 0., 0., ..., 0., 0., 0.]],\n",
       "\n",
       "       [[0., 0., 0., ..., 0., 0., 0.],\n",
       "        [0., 0., 0., ..., 0., 0., 0.],\n",
       "        [0., 0., 0., ..., 0., 0., 0.],\n",
       "        ...,\n",
       "        [0., 0., 0., ..., 0., 0., 0.],\n",
       "        [0., 0., 0., ..., 0., 0., 0.],\n",
       "        [0., 0., 0., ..., 0., 0., 0.]]])"
      ]
     },
     "execution_count": 9,
     "metadata": {},
     "output_type": "execute_result"
    }
   ],
   "source": [
    "x_train"
   ]
  },
  {
   "cell_type": "code",
   "execution_count": 10,
   "id": "7b283fed",
   "metadata": {
    "execution": {
     "iopub.execute_input": "2025-03-17T09:37:40.630043Z",
     "iopub.status.busy": "2025-03-17T09:37:40.629708Z",
     "iopub.status.idle": "2025-03-17T09:37:40.733141Z",
     "shell.execute_reply": "2025-03-17T09:37:40.731753Z"
    },
    "papermill": {
     "duration": 0.111953,
     "end_time": "2025-03-17T09:37:40.735110",
     "exception": false,
     "start_time": "2025-03-17T09:37:40.623157",
     "status": "completed"
    },
    "tags": []
   },
   "outputs": [
    {
     "name": "stderr",
     "output_type": "stream",
     "text": [
      "/usr/local/lib/python3.10/dist-packages/keras/src/layers/reshaping/flatten.py:37: UserWarning: Do not pass an `input_shape`/`input_dim` argument to a layer. When using Sequential models, prefer using an `Input(shape)` object as the first layer in the model instead.\n",
      "  super().__init__(**kwargs)\n"
     ]
    }
   ],
   "source": [
    "model = Sequential()\n",
    "\n",
    "model.add(Flatten(input_shape= (28,28)))\n",
    "model.add(Dense(128,activation = 'relu'))\n",
    "model.add(Dense(32,activation = 'relu'))\n",
    "model.add(Dense(10,activation = 'softmax'))"
   ]
  },
  {
   "cell_type": "code",
   "execution_count": 11,
   "id": "273e9b17",
   "metadata": {
    "execution": {
     "iopub.execute_input": "2025-03-17T09:37:40.748552Z",
     "iopub.status.busy": "2025-03-17T09:37:40.748155Z",
     "iopub.status.idle": "2025-03-17T09:37:40.767981Z",
     "shell.execute_reply": "2025-03-17T09:37:40.766562Z"
    },
    "papermill": {
     "duration": 0.028782,
     "end_time": "2025-03-17T09:37:40.769931",
     "exception": false,
     "start_time": "2025-03-17T09:37:40.741149",
     "status": "completed"
    },
    "tags": []
   },
   "outputs": [
    {
     "data": {
      "text/html": [
       "<pre style=\"white-space:pre;overflow-x:auto;line-height:normal;font-family:Menlo,'DejaVu Sans Mono',consolas,'Courier New',monospace\"><span style=\"font-weight: bold\">Model: \"sequential\"</span>\n",
       "</pre>\n"
      ],
      "text/plain": [
       "\u001b[1mModel: \"sequential\"\u001b[0m\n"
      ]
     },
     "metadata": {},
     "output_type": "display_data"
    },
    {
     "data": {
      "text/html": [
       "<pre style=\"white-space:pre;overflow-x:auto;line-height:normal;font-family:Menlo,'DejaVu Sans Mono',consolas,'Courier New',monospace\">┏━━━━━━━━━━━━━━━━━━━━━━━━━━━━━━━━━━━━━━┳━━━━━━━━━━━━━━━━━━━━━━━━━━━━━┳━━━━━━━━━━━━━━━━━┓\n",
       "┃<span style=\"font-weight: bold\"> Layer (type)                         </span>┃<span style=\"font-weight: bold\"> Output Shape                </span>┃<span style=\"font-weight: bold\">         Param # </span>┃\n",
       "┡━━━━━━━━━━━━━━━━━━━━━━━━━━━━━━━━━━━━━━╇━━━━━━━━━━━━━━━━━━━━━━━━━━━━━╇━━━━━━━━━━━━━━━━━┩\n",
       "│ flatten (<span style=\"color: #0087ff; text-decoration-color: #0087ff\">Flatten</span>)                    │ (<span style=\"color: #00d7ff; text-decoration-color: #00d7ff\">None</span>, <span style=\"color: #00af00; text-decoration-color: #00af00\">784</span>)                 │               <span style=\"color: #00af00; text-decoration-color: #00af00\">0</span> │\n",
       "├──────────────────────────────────────┼─────────────────────────────┼─────────────────┤\n",
       "│ dense (<span style=\"color: #0087ff; text-decoration-color: #0087ff\">Dense</span>)                        │ (<span style=\"color: #00d7ff; text-decoration-color: #00d7ff\">None</span>, <span style=\"color: #00af00; text-decoration-color: #00af00\">128</span>)                 │         <span style=\"color: #00af00; text-decoration-color: #00af00\">100,480</span> │\n",
       "├──────────────────────────────────────┼─────────────────────────────┼─────────────────┤\n",
       "│ dense_1 (<span style=\"color: #0087ff; text-decoration-color: #0087ff\">Dense</span>)                      │ (<span style=\"color: #00d7ff; text-decoration-color: #00d7ff\">None</span>, <span style=\"color: #00af00; text-decoration-color: #00af00\">32</span>)                  │           <span style=\"color: #00af00; text-decoration-color: #00af00\">4,128</span> │\n",
       "├──────────────────────────────────────┼─────────────────────────────┼─────────────────┤\n",
       "│ dense_2 (<span style=\"color: #0087ff; text-decoration-color: #0087ff\">Dense</span>)                      │ (<span style=\"color: #00d7ff; text-decoration-color: #00d7ff\">None</span>, <span style=\"color: #00af00; text-decoration-color: #00af00\">10</span>)                  │             <span style=\"color: #00af00; text-decoration-color: #00af00\">330</span> │\n",
       "└──────────────────────────────────────┴─────────────────────────────┴─────────────────┘\n",
       "</pre>\n"
      ],
      "text/plain": [
       "┏━━━━━━━━━━━━━━━━━━━━━━━━━━━━━━━━━━━━━━┳━━━━━━━━━━━━━━━━━━━━━━━━━━━━━┳━━━━━━━━━━━━━━━━━┓\n",
       "┃\u001b[1m \u001b[0m\u001b[1mLayer (type)                        \u001b[0m\u001b[1m \u001b[0m┃\u001b[1m \u001b[0m\u001b[1mOutput Shape               \u001b[0m\u001b[1m \u001b[0m┃\u001b[1m \u001b[0m\u001b[1m        Param #\u001b[0m\u001b[1m \u001b[0m┃\n",
       "┡━━━━━━━━━━━━━━━━━━━━━━━━━━━━━━━━━━━━━━╇━━━━━━━━━━━━━━━━━━━━━━━━━━━━━╇━━━━━━━━━━━━━━━━━┩\n",
       "│ flatten (\u001b[38;5;33mFlatten\u001b[0m)                    │ (\u001b[38;5;45mNone\u001b[0m, \u001b[38;5;34m784\u001b[0m)                 │               \u001b[38;5;34m0\u001b[0m │\n",
       "├──────────────────────────────────────┼─────────────────────────────┼─────────────────┤\n",
       "│ dense (\u001b[38;5;33mDense\u001b[0m)                        │ (\u001b[38;5;45mNone\u001b[0m, \u001b[38;5;34m128\u001b[0m)                 │         \u001b[38;5;34m100,480\u001b[0m │\n",
       "├──────────────────────────────────────┼─────────────────────────────┼─────────────────┤\n",
       "│ dense_1 (\u001b[38;5;33mDense\u001b[0m)                      │ (\u001b[38;5;45mNone\u001b[0m, \u001b[38;5;34m32\u001b[0m)                  │           \u001b[38;5;34m4,128\u001b[0m │\n",
       "├──────────────────────────────────────┼─────────────────────────────┼─────────────────┤\n",
       "│ dense_2 (\u001b[38;5;33mDense\u001b[0m)                      │ (\u001b[38;5;45mNone\u001b[0m, \u001b[38;5;34m10\u001b[0m)                  │             \u001b[38;5;34m330\u001b[0m │\n",
       "└──────────────────────────────────────┴─────────────────────────────┴─────────────────┘\n"
      ]
     },
     "metadata": {},
     "output_type": "display_data"
    },
    {
     "data": {
      "text/html": [
       "<pre style=\"white-space:pre;overflow-x:auto;line-height:normal;font-family:Menlo,'DejaVu Sans Mono',consolas,'Courier New',monospace\"><span style=\"font-weight: bold\"> Total params: </span><span style=\"color: #00af00; text-decoration-color: #00af00\">104,938</span> (409.91 KB)\n",
       "</pre>\n"
      ],
      "text/plain": [
       "\u001b[1m Total params: \u001b[0m\u001b[38;5;34m104,938\u001b[0m (409.91 KB)\n"
      ]
     },
     "metadata": {},
     "output_type": "display_data"
    },
    {
     "data": {
      "text/html": [
       "<pre style=\"white-space:pre;overflow-x:auto;line-height:normal;font-family:Menlo,'DejaVu Sans Mono',consolas,'Courier New',monospace\"><span style=\"font-weight: bold\"> Trainable params: </span><span style=\"color: #00af00; text-decoration-color: #00af00\">104,938</span> (409.91 KB)\n",
       "</pre>\n"
      ],
      "text/plain": [
       "\u001b[1m Trainable params: \u001b[0m\u001b[38;5;34m104,938\u001b[0m (409.91 KB)\n"
      ]
     },
     "metadata": {},
     "output_type": "display_data"
    },
    {
     "data": {
      "text/html": [
       "<pre style=\"white-space:pre;overflow-x:auto;line-height:normal;font-family:Menlo,'DejaVu Sans Mono',consolas,'Courier New',monospace\"><span style=\"font-weight: bold\"> Non-trainable params: </span><span style=\"color: #00af00; text-decoration-color: #00af00\">0</span> (0.00 B)\n",
       "</pre>\n"
      ],
      "text/plain": [
       "\u001b[1m Non-trainable params: \u001b[0m\u001b[38;5;34m0\u001b[0m (0.00 B)\n"
      ]
     },
     "metadata": {},
     "output_type": "display_data"
    }
   ],
   "source": [
    "model.summary()"
   ]
  },
  {
   "cell_type": "code",
   "execution_count": 12,
   "id": "396459b4",
   "metadata": {
    "execution": {
     "iopub.execute_input": "2025-03-17T09:37:40.784857Z",
     "iopub.status.busy": "2025-03-17T09:37:40.784293Z",
     "iopub.status.idle": "2025-03-17T09:37:40.799089Z",
     "shell.execute_reply": "2025-03-17T09:37:40.797952Z"
    },
    "papermill": {
     "duration": 0.024424,
     "end_time": "2025-03-17T09:37:40.801043",
     "exception": false,
     "start_time": "2025-03-17T09:37:40.776619",
     "status": "completed"
    },
    "tags": []
   },
   "outputs": [],
   "source": [
    "model.compile(loss = 'sparse_categorical_crossentropy',optimizer = 'Adam',metrics = ['accuracy'])"
   ]
  },
  {
   "cell_type": "code",
   "execution_count": 13,
   "id": "e49ca7f0",
   "metadata": {
    "execution": {
     "iopub.execute_input": "2025-03-17T09:37:40.816310Z",
     "iopub.status.busy": "2025-03-17T09:37:40.815858Z",
     "iopub.status.idle": "2025-03-17T09:38:56.215938Z",
     "shell.execute_reply": "2025-03-17T09:38:56.214536Z"
    },
    "papermill": {
     "duration": 75.410538,
     "end_time": "2025-03-17T09:38:56.218449",
     "exception": false,
     "start_time": "2025-03-17T09:37:40.807911",
     "status": "completed"
    },
    "tags": []
   },
   "outputs": [
    {
     "name": "stdout",
     "output_type": "stream",
     "text": [
      "Epoch 1/15\n",
      "\u001b[1m1500/1500\u001b[0m \u001b[32m━━━━━━━━━━━━━━━━━━━━\u001b[0m\u001b[37m\u001b[0m \u001b[1m6s\u001b[0m 3ms/step - accuracy: 0.8650 - loss: 0.4739 - val_accuracy: 0.9473 - val_loss: 0.1692\n",
      "Epoch 2/15\n",
      "\u001b[1m1500/1500\u001b[0m \u001b[32m━━━━━━━━━━━━━━━━━━━━\u001b[0m\u001b[37m\u001b[0m \u001b[1m5s\u001b[0m 4ms/step - accuracy: 0.9636 - loss: 0.1252 - val_accuracy: 0.9656 - val_loss: 0.1167\n",
      "Epoch 3/15\n",
      "\u001b[1m1500/1500\u001b[0m \u001b[32m━━━━━━━━━━━━━━━━━━━━\u001b[0m\u001b[37m\u001b[0m \u001b[1m5s\u001b[0m 4ms/step - accuracy: 0.9750 - loss: 0.0827 - val_accuracy: 0.9661 - val_loss: 0.1069\n",
      "Epoch 4/15\n",
      "\u001b[1m1500/1500\u001b[0m \u001b[32m━━━━━━━━━━━━━━━━━━━━\u001b[0m\u001b[37m\u001b[0m \u001b[1m5s\u001b[0m 3ms/step - accuracy: 0.9818 - loss: 0.0597 - val_accuracy: 0.9719 - val_loss: 0.0959\n",
      "Epoch 5/15\n",
      "\u001b[1m1500/1500\u001b[0m \u001b[32m━━━━━━━━━━━━━━━━━━━━\u001b[0m\u001b[37m\u001b[0m \u001b[1m5s\u001b[0m 3ms/step - accuracy: 0.9863 - loss: 0.0428 - val_accuracy: 0.9711 - val_loss: 0.0986\n",
      "Epoch 6/15\n",
      "\u001b[1m1500/1500\u001b[0m \u001b[32m━━━━━━━━━━━━━━━━━━━━\u001b[0m\u001b[37m\u001b[0m \u001b[1m5s\u001b[0m 3ms/step - accuracy: 0.9895 - loss: 0.0332 - val_accuracy: 0.9733 - val_loss: 0.1050\n",
      "Epoch 7/15\n",
      "\u001b[1m1500/1500\u001b[0m \u001b[32m━━━━━━━━━━━━━━━━━━━━\u001b[0m\u001b[37m\u001b[0m \u001b[1m5s\u001b[0m 3ms/step - accuracy: 0.9911 - loss: 0.0271 - val_accuracy: 0.9750 - val_loss: 0.0986\n",
      "Epoch 8/15\n",
      "\u001b[1m1500/1500\u001b[0m \u001b[32m━━━━━━━━━━━━━━━━━━━━\u001b[0m\u001b[37m\u001b[0m \u001b[1m5s\u001b[0m 3ms/step - accuracy: 0.9926 - loss: 0.0225 - val_accuracy: 0.9753 - val_loss: 0.1024\n",
      "Epoch 9/15\n",
      "\u001b[1m1500/1500\u001b[0m \u001b[32m━━━━━━━━━━━━━━━━━━━━\u001b[0m\u001b[37m\u001b[0m \u001b[1m5s\u001b[0m 3ms/step - accuracy: 0.9945 - loss: 0.0185 - val_accuracy: 0.9742 - val_loss: 0.1090\n",
      "Epoch 10/15\n",
      "\u001b[1m1500/1500\u001b[0m \u001b[32m━━━━━━━━━━━━━━━━━━━━\u001b[0m\u001b[37m\u001b[0m \u001b[1m5s\u001b[0m 3ms/step - accuracy: 0.9944 - loss: 0.0171 - val_accuracy: 0.9746 - val_loss: 0.1096\n",
      "Epoch 11/15\n",
      "\u001b[1m1500/1500\u001b[0m \u001b[32m━━━━━━━━━━━━━━━━━━━━\u001b[0m\u001b[37m\u001b[0m \u001b[1m5s\u001b[0m 3ms/step - accuracy: 0.9942 - loss: 0.0175 - val_accuracy: 0.9769 - val_loss: 0.1017\n",
      "Epoch 12/15\n",
      "\u001b[1m1500/1500\u001b[0m \u001b[32m━━━━━━━━━━━━━━━━━━━━\u001b[0m\u001b[37m\u001b[0m \u001b[1m5s\u001b[0m 3ms/step - accuracy: 0.9962 - loss: 0.0112 - val_accuracy: 0.9747 - val_loss: 0.1185\n",
      "Epoch 13/15\n",
      "\u001b[1m1500/1500\u001b[0m \u001b[32m━━━━━━━━━━━━━━━━━━━━\u001b[0m\u001b[37m\u001b[0m \u001b[1m5s\u001b[0m 3ms/step - accuracy: 0.9967 - loss: 0.0109 - val_accuracy: 0.9741 - val_loss: 0.1248\n",
      "Epoch 14/15\n",
      "\u001b[1m1500/1500\u001b[0m \u001b[32m━━━━━━━━━━━━━━━━━━━━\u001b[0m\u001b[37m\u001b[0m \u001b[1m5s\u001b[0m 3ms/step - accuracy: 0.9968 - loss: 0.0096 - val_accuracy: 0.9757 - val_loss: 0.1303\n",
      "Epoch 15/15\n",
      "\u001b[1m1500/1500\u001b[0m \u001b[32m━━━━━━━━━━━━━━━━━━━━\u001b[0m\u001b[37m\u001b[0m \u001b[1m5s\u001b[0m 3ms/step - accuracy: 0.9954 - loss: 0.0124 - val_accuracy: 0.9761 - val_loss: 0.1321\n"
     ]
    }
   ],
   "source": [
    "history = model.fit(x_train,y_train,epochs = 15,validation_split = 0.2)"
   ]
  },
  {
   "cell_type": "code",
   "execution_count": 14,
   "id": "3010e584",
   "metadata": {
    "execution": {
     "iopub.execute_input": "2025-03-17T09:38:56.439999Z",
     "iopub.status.busy": "2025-03-17T09:38:56.439495Z",
     "iopub.status.idle": "2025-03-17T09:38:57.302566Z",
     "shell.execute_reply": "2025-03-17T09:38:57.301465Z"
    },
    "papermill": {
     "duration": 0.975503,
     "end_time": "2025-03-17T09:38:57.304767",
     "exception": false,
     "start_time": "2025-03-17T09:38:56.329264",
     "status": "completed"
    },
    "tags": []
   },
   "outputs": [
    {
     "name": "stdout",
     "output_type": "stream",
     "text": [
      "\u001b[1m313/313\u001b[0m \u001b[32m━━━━━━━━━━━━━━━━━━━━\u001b[0m\u001b[37m\u001b[0m \u001b[1m1s\u001b[0m 2ms/step\n"
     ]
    }
   ],
   "source": [
    "y_prob = model.predict(x_test)"
   ]
  },
  {
   "cell_type": "code",
   "execution_count": 15,
   "id": "41e3d328",
   "metadata": {
    "execution": {
     "iopub.execute_input": "2025-03-17T09:38:57.468381Z",
     "iopub.status.busy": "2025-03-17T09:38:57.468021Z",
     "iopub.status.idle": "2025-03-17T09:38:57.472571Z",
     "shell.execute_reply": "2025-03-17T09:38:57.471559Z"
    },
    "papermill": {
     "duration": 0.088091,
     "end_time": "2025-03-17T09:38:57.474610",
     "exception": false,
     "start_time": "2025-03-17T09:38:57.386519",
     "status": "completed"
    },
    "tags": []
   },
   "outputs": [],
   "source": [
    "y_pred = y_prob.argmax(axis = 1)"
   ]
  },
  {
   "cell_type": "code",
   "execution_count": 16,
   "id": "a63d216b",
   "metadata": {
    "execution": {
     "iopub.execute_input": "2025-03-17T09:38:57.639715Z",
     "iopub.status.busy": "2025-03-17T09:38:57.639327Z",
     "iopub.status.idle": "2025-03-17T09:38:57.645287Z",
     "shell.execute_reply": "2025-03-17T09:38:57.644257Z"
    },
    "papermill": {
     "duration": 0.091725,
     "end_time": "2025-03-17T09:38:57.646966",
     "exception": false,
     "start_time": "2025-03-17T09:38:57.555241",
     "status": "completed"
    },
    "tags": []
   },
   "outputs": [
    {
     "data": {
      "text/plain": [
       "array([7, 2, 1, ..., 4, 5, 6])"
      ]
     },
     "execution_count": 16,
     "metadata": {},
     "output_type": "execute_result"
    }
   ],
   "source": [
    "y_pred"
   ]
  },
  {
   "cell_type": "code",
   "execution_count": 17,
   "id": "dbcdd6d7",
   "metadata": {
    "execution": {
     "iopub.execute_input": "2025-03-17T09:38:57.871559Z",
     "iopub.status.busy": "2025-03-17T09:38:57.871170Z",
     "iopub.status.idle": "2025-03-17T09:38:58.987994Z",
     "shell.execute_reply": "2025-03-17T09:38:58.987007Z"
    },
    "papermill": {
     "duration": 1.262861,
     "end_time": "2025-03-17T09:38:58.989815",
     "exception": false,
     "start_time": "2025-03-17T09:38:57.726954",
     "status": "completed"
    },
    "tags": []
   },
   "outputs": [
    {
     "data": {
      "text/plain": [
       "0.9777"
      ]
     },
     "execution_count": 17,
     "metadata": {},
     "output_type": "execute_result"
    }
   ],
   "source": [
    "from sklearn.metrics import accuracy_score\n",
    "accuracy_score(y_test,y_pred)"
   ]
  },
  {
   "cell_type": "code",
   "execution_count": 18,
   "id": "509da379",
   "metadata": {
    "execution": {
     "iopub.execute_input": "2025-03-17T09:38:59.149281Z",
     "iopub.status.busy": "2025-03-17T09:38:59.148382Z",
     "iopub.status.idle": "2025-03-17T09:38:59.356870Z",
     "shell.execute_reply": "2025-03-17T09:38:59.355694Z"
    },
    "papermill": {
     "duration": 0.290969,
     "end_time": "2025-03-17T09:38:59.358786",
     "exception": false,
     "start_time": "2025-03-17T09:38:59.067817",
     "status": "completed"
    },
    "tags": []
   },
   "outputs": [
    {
     "data": {
      "text/plain": [
       "[<matplotlib.lines.Line2D at 0x7da8194e56f0>]"
      ]
     },
     "execution_count": 18,
     "metadata": {},
     "output_type": "execute_result"
    },
    {
     "data": {
      "image/png": "[encoded data removed]",
      "text/plain": [
       "<Figure size 640x480 with 1 Axes>"
      ]
     },
     "metadata": {},
     "output_type": "display_data"
    }
   ],
   "source": [
    "plt.plot(history.history['accuracy'])\n",
    "plt.plot(history.history['val_accuracy'])"
   ]
  },
  {
   "cell_type": "code",
   "execution_count": 19,
   "id": "1a8d7eaf",
   "metadata": {
    "execution": {
     "iopub.execute_input": "2025-03-17T09:38:59.518727Z",
     "iopub.status.busy": "2025-03-17T09:38:59.518233Z",
     "iopub.status.idle": "2025-03-17T09:38:59.706449Z",
     "shell.execute_reply": "2025-03-17T09:38:59.705264Z"
    },
    "papermill": {
     "duration": 0.270501,
     "end_time": "2025-03-17T09:38:59.708181",
     "exception": false,
     "start_time": "2025-03-17T09:38:59.437680",
     "status": "completed"
    },
    "tags": []
   },
   "outputs": [
    {
     "data": {
      "text/plain": [
       "[<matplotlib.lines.Line2D at 0x7da8190de380>]"
      ]
     },
     "execution_count": 19,
     "metadata": {},
     "output_type": "execute_result"
    },
    {
     "data": {
      "image/png": "[encoded data removed]",
      "text/plain": [
       "<Figure size 640x480 with 1 Axes>"
      ]
     },
     "metadata": {},
     "output_type": "display_data"
    }
   ],
   "source": [
    "plt.plot(history.history['loss'])\n",
    "plt.plot(history.history['val_loss'])"
   ]
  },
  {
   "cell_type": "code",
   "execution_count": 20,
   "id": "c366d1f7",
   "metadata": {
    "execution": {
     "iopub.execute_input": "2025-03-17T09:38:59.869386Z",
     "iopub.status.busy": "2025-03-17T09:38:59.869045Z",
     "iopub.status.idle": "2025-03-17T09:39:00.058602Z",
     "shell.execute_reply": "2025-03-17T09:39:00.057505Z"
    },
    "papermill": {
     "duration": 0.272567,
     "end_time": "2025-03-17T09:39:00.060414",
     "exception": false,
     "start_time": "2025-03-17T09:38:59.787847",
     "status": "completed"
    },
    "tags": []
   },
   "outputs": [
    {
     "data": {
      "text/plain": [
       "<matplotlib.image.AxesImage at 0x7da81911b5e0>"
      ]
     },
     "execution_count": 20,
     "metadata": {},
     "output_type": "execute_result"
    },
    {
     "data": {
      "image/png": "[encoded data removed]",
      "text/plain": [
       "<Figure size 640x480 with 1 Axes>"
      ]
     },
     "metadata": {},
     "output_type": "display_data"
    }
   ],
   "source": [
    "plt.imshow(x_test[1])"
   ]
  },
  {
   "cell_type": "code",
   "execution_count": 21,
   "id": "6cc9be96",
   "metadata": {
    "execution": {
     "iopub.execute_input": "2025-03-17T09:39:00.223571Z",
     "iopub.status.busy": "2025-03-17T09:39:00.223179Z",
     "iopub.status.idle": "2025-03-17T09:39:00.304677Z",
     "shell.execute_reply": "2025-03-17T09:39:00.303547Z"
    },
    "papermill": {
     "duration": 0.166492,
     "end_time": "2025-03-17T09:39:00.306581",
     "exception": false,
     "start_time": "2025-03-17T09:39:00.140089",
     "status": "completed"
    },
    "tags": []
   },
   "outputs": [
    {
     "name": "stdout",
     "output_type": "stream",
     "text": [
      "\u001b[1m1/1\u001b[0m \u001b[32m━━━━━━━━━━━━━━━━━━━━\u001b[0m\u001b[37m\u001b[0m \u001b[1m0s\u001b[0m 21ms/step\n"
     ]
    },
    {
     "data": {
      "text/plain": [
       "2"
      ]
     },
     "execution_count": 21,
     "metadata": {},
     "output_type": "execute_result"
    }
   ],
   "source": [
    "predvalue = model.predict(x_test[1].reshape(1,28,28))\n",
    "np.argmax(predvalue)"
   ]
  },
  {
   "cell_type": "code",
   "execution_count": null,
   "id": "f78d4d49",
   "metadata": {
    "papermill": {
     "duration": 0.079187,
     "end_time": "2025-03-17T09:39:00.466225",
     "exception": false,
     "start_time": "2025-03-17T09:39:00.387038",
     "status": "completed"
    },
    "tags": []
   },
   "outputs": [],
   "source": []
  }
 ],
 "metadata": {
  "kaggle": {
   "accelerator": "none",
   "dataSources": [],
   "dockerImageVersionId": 30918,
   "isGpuEnabled": false,
   "isInternetEnabled": true,
   "language": "python",
   "sourceType": "notebook"
  },
  "kernelspec": {
   "display_name": "Python 3",
   "language": "python",
   "name": "python3"
  },
  "language_info": {
   "codemirror_mode": {
    "name": "ipython",
    "version": 3
   },
   "file_extension": ".py",
   "mimetype": "text/x-python",
   "name": "python",
   "nbconvert_exporter": "python",
   "pygments_lexer": "ipython3",
   "version": "3.10.12"
  },
  "papermill": {
   "default_parameters": {},
   "duration": 103.45414,
   "end_time": "2025-03-17T09:39:02.273551",
   "environment_variables": {},
   "exception": null,
   "input_path": "__notebook__.ipynb",
   "output_path": "__notebook__.ipynb",
   "parameters": {},
   "start_time": "2025-03-17T09:37:18.819411",
   "version": "2.6.0"
  }
 },
 "nbformat": 4,
 "nbformat_minor": 5
}
